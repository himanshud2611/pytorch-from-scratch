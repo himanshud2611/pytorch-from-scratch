{
  "cells": [
    {
      "cell_type": "markdown",
      "metadata": {
        "id": "J2-6rAoBEcRg"
      },
      "source": [
        "![alt text](https://upload.wikimedia.org/wikipedia/commons/thumb/9/96/Pytorch_logo.png/800px-Pytorch_logo.png)"
      ]
    },
    {
      "cell_type": "markdown",
      "metadata": {
        "id": "t-B_YI9kEcRj"
      },
      "source": [
        "<h1>Pytorch Basics</h1>"
      ]
    },
    {
      "cell_type": "markdown",
      "metadata": {
        "id": "ED7rXTC9EcRj"
      },
      "source": [
        "<h2>Introduction</h2>\n",
        "As we've seen we can use numpy to create single layer neural networks by calculating the gradients by hand and hard coding them and training them via GD. But what if we want to create larger and more complicated networks? What if we want to use complicated and fancy loss functions or use huge datasets and train with more complicated training regimes?! And what about training on GPUs.......<br>\n",
        "That's a lot to try and work out EVERY time we want to try something new!! Lucky for us there are a number of Deep learning frameworks that can do much of the heavy lifting for us!<br>\n",
        "For this unit we will be using Pytorch, a hugely powerful and widely used Deep Learning framework that lets us do all of the above and MORE"
      ]
    },
    {
      "cell_type": "markdown",
      "metadata": {
        "id": "fFnl9rJ7EcRk"
      },
      "source": [
        "<h3> Importing the required libraries </h3>\n",
        "Pytorch has two main modules, torch and torchvision<br>\n",
        "torch contains most of the Deep Learning functionalities while torchvision contains many computer vision functions designed to work in hand with torch"
      ]
    },
    {
      "cell_type": "code",
      "execution_count": 2,
      "metadata": {
        "id": "BhBwFPNjEcRl"
      },
      "outputs": [],
      "source": [
        "import torch\n",
        "import torchvision\n",
        "import torch.nn as nn\n",
        "import numpy as np\n",
        "import matplotlib.pyplot as plt"
      ]
    },
    {
      "cell_type": "markdown",
      "metadata": {
        "id": "fnMQ85DhEcRm"
      },
      "source": [
        "<h3> The Pytorch Tensor </h3>\n",
        "As we've already explored the \"Tensor\" is a useful concept and is very useful in Machine Learning, however you probably noticed in Numpy that our \"Tensors\" are called \"Arrays\", but now we are in Pytorch this is no more!!<br>\n",
        "Let's do a recap of Numpy arrays and how similar they are to Pytorch tensors."
      ]
    },
    {
      "cell_type": "code",
      "execution_count": 2,
      "metadata": {
        "id": "lQMn_VTCEcRm"
      },
      "outputs": [],
      "source": [
        "# Create some \"Matrices\" as lists of lists\n",
        "\n",
        "# 3x3\n",
        "W = [[1, 1, 1],\n",
        "     [1.5, 1.5, 1.5],\n",
        "     [2, 2, 2]]\n",
        "\n",
        "# 3x1\n",
        "x = [[6], [7], [8]]\n",
        "# 3x1\n",
        "b = [[1], [1], [1]]\n",
        "\n",
        "# Variable to store output\n",
        "# 3x1\n",
        "y = [[0], [0], [0]]"
      ]
    },
    {
      "cell_type": "markdown",
      "metadata": {
        "id": "50vKb7PJEcRn"
      },
      "source": [
        "As we've seen before"
      ]
    },
    {
      "cell_type": "code",
      "execution_count": 3,
      "metadata": {
        "colab": {
          "base_uri": "https://localhost:8080/"
        },
        "id": "zJDM6yTtEcRn",
        "outputId": "c723e00e-5be4-470d-e390-5b3cb767d921"
      },
      "outputs": [
        {
          "output_type": "stream",
          "name": "stdout",
          "text": [
            "Output:\n",
            " [[22. ]\n",
            " [32.5]\n",
            " [43. ]]\n",
            "Output shape:\n",
            " (3, 1)\n"
          ]
        },
        {
          "output_type": "execute_result",
          "data": {
            "text/plain": [
              "array([[1. , 1. , 1. ],\n",
              "       [1.5, 1.5, 1.5],\n",
              "       [2. , 2. , 2. ]])"
            ]
          },
          "metadata": {},
          "execution_count": 3
        }
      ],
      "source": [
        "# We can transform our list of lists into a \"numpy array\" by using the function \"array\"\n",
        "W_np = np.array(W)\n",
        "\n",
        "x_np = np.array(x)\n",
        "\n",
        "# Lets use the function \"ones\" to create an array of ones!\n",
        "b_np = np.ones((3, 1))\n",
        "\n",
        "# Lets now compute Wx + b using these numpy variables!\n",
        "output = np.matmul(W_np, x_np) + b_np\n",
        "\n",
        "# Print out the result\n",
        "print(\"Output:\\n\", output)\n",
        "print(\"Output shape:\\n\", output.shape)\n",
        "W_np"
      ]
    },
    {
      "cell_type": "markdown",
      "metadata": {
        "id": "K0zgd03_EcRn"
      },
      "source": [
        "Now in Pytorch!"
      ]
    },
    {
      "cell_type": "code",
      "execution_count": 4,
      "metadata": {
        "colab": {
          "base_uri": "https://localhost:8080/",
          "height": 145
        },
        "id": "NheHynprEcRn",
        "outputId": "3e9216a3-d104-4d45-eea8-587444c3f52e"
      },
      "outputs": [
        {
          "output_type": "stream",
          "name": "stdout",
          "text": [
            "Output:\n",
            " tensor([[22.0000],\n",
            "        [32.5000],\n",
            "        [43.0000]])\n",
            "Output shape:\n",
            " torch.Size([3, 1])\n"
          ]
        },
        {
          "output_type": "execute_result",
          "data": {
            "text/plain": [
              "'torch.LongTensor'"
            ],
            "application/vnd.google.colaboratory.intrinsic+json": {
              "type": "string"
            }
          },
          "metadata": {},
          "execution_count": 4
        }
      ],
      "source": [
        "# We can transform our list of lists into a \"torch tensor\" by using the function \"FloatTensor\"\n",
        "# Note: here we've specified the datatype of the tensor, a 32bit \"float\" you can also just use the function \"tensor\"\n",
        "# But this will inherit the datatype of the array given, to ensure the data-types are the same\n",
        "# (and we can perform the wanted operations) we use \"FloatTensor\"\n",
        "\n",
        "W_torch = torch.FloatTensor(W)\n",
        "\n",
        "x_torch = torch.FloatTensor(x)\n",
        "\n",
        "# Lets use the function \"ones\" to create an array of ones!\n",
        "b_torch = torch.ones(3, 1)\n",
        "\n",
        "# Lets now compute Wx + b using these numpy variables!\n",
        "output = torch.matmul(W_torch, x_torch) + b_torch\n",
        "\n",
        "# Print out the result\n",
        "print(\"Output:\\n\", output)\n",
        "print(\"Output shape:\\n\", output.shape)\n",
        "torch.tensor(x).type()"
      ]
    },
    {
      "cell_type": "markdown",
      "metadata": {
        "id": "1iFjOJ7bEcRo"
      },
      "source": [
        "Wow! Numpy and Pytorch are remarkably similar, though this is no coincidence! The creators of Pytorch did this intentionally to make it easy to transfer existing skills in Numpy (a Python library that everyone uses - has its origins back in 1995!!) to Pytorch. To aid this transfer there are even functions that can transfer Pytorch tensors to Numpy arrays and back!"
      ]
    },
    {
      "cell_type": "code",
      "execution_count": 5,
      "metadata": {
        "colab": {
          "base_uri": "https://localhost:8080/"
        },
        "id": "Go8xM2bwEcRo",
        "outputId": "f84edd96-5f67-4088-ef1f-2c1c7c079a73"
      },
      "outputs": [
        {
          "output_type": "stream",
          "name": "stdout",
          "text": [
            "Numpy array:\n",
            " [[0.12679343 0.42893908 0.38184255 0.08561865]\n",
            " [0.75041966 0.37837902 0.51568037 0.09467589]\n",
            " [0.93202996 0.81515467 0.82627586 0.29067426]]\n",
            "Pytorch tensor:\n",
            " tensor([[0.1268, 0.4289, 0.3818, 0.0856],\n",
            "        [0.7504, 0.3784, 0.5157, 0.0947],\n",
            "        [0.9320, 0.8152, 0.8263, 0.2907]])\n",
            "Numpy array:\n",
            " [[0.12679343 0.42893907 0.38184255 0.08561865]\n",
            " [0.7504197  0.37837902 0.5156804  0.09467589]\n",
            " [0.93202996 0.8151547  0.8262759  0.29067427]]\n"
          ]
        }
      ],
      "source": [
        "# Create a random Numpy array\n",
        "np_array = np.random.random((3, 4))\n",
        "print(\"Numpy array:\\n\", np_array)\n",
        "\n",
        "# Convert to Pytorch tensor\n",
        "torch_tensor = torch.FloatTensor(np_array)\n",
        "print(\"Pytorch tensor:\\n\", torch_tensor)\n",
        "\n",
        "# Convert back to a Numpy array!\n",
        "np_array2 = torch_tensor.numpy()\n",
        "print(\"Numpy array:\\n\", np_array2)"
      ]
    },
    {
      "cell_type": "markdown",
      "metadata": {
        "id": "rMj2Z9epEcRo"
      },
      "source": [
        "<h>"
      ]
    },
    {
      "cell_type": "markdown",
      "metadata": {
        "id": "16ihyE2TEcRo"
      },
      "source": [
        "<h1>On to Pytorch!</h1>\n",
        "Let's further explore Pytorch and it's similarities to Numpy and then see what new functionalities it brings to the table!!\n",
        "<h3> Basic Element-wise Operations </h3>\n",
        "Let's quickly go back over some basics using Pytorch"
      ]
    },
    {
      "cell_type": "code",
      "execution_count": 6,
      "metadata": {
        "colab": {
          "base_uri": "https://localhost:8080/"
        },
        "id": "WbJ_qB7cEcRo",
        "outputId": "5fbd8d8e-f654-4e43-807a-8fc4b424e1dd"
      },
      "outputs": [
        {
          "output_type": "stream",
          "name": "stdout",
          "text": [
            "Our 1D Tensor:\n",
            " tensor([[0.4260, 0.3251, 0.2218, 0.2178, 0.7683],\n",
            "        [0.7000, 0.3858, 0.1901, 0.1460, 0.9114],\n",
            "        [0.1119, 0.5170, 0.1763, 0.5270, 0.9625],\n",
            "        [0.0172, 0.2565, 0.1934, 0.9658, 0.0994]])\n",
            "\n",
            "Scalar Multiplication:\n",
            " tensor([[4.2596, 3.2514, 2.2180, 2.1776, 7.6828],\n",
            "        [7.0004, 3.8585, 1.9005, 1.4598, 9.1143],\n",
            "        [1.1187, 5.1700, 1.7628, 5.2700, 9.6254],\n",
            "        [0.1724, 2.5648, 1.9336, 9.6582, 0.9941]])\n",
            "Addition and Square:\n",
            " tensor([[2.0334, 1.7560, 1.4928, 1.4829, 3.1268],\n",
            "        [2.8901, 1.9206, 1.4162, 1.3133, 3.6536],\n",
            "        [1.2363, 2.3013, 1.3836, 2.3317, 3.8516],\n",
            "        [1.0348, 1.5787, 1.4241, 3.8644, 1.2087]])\n",
            "Addition:\n",
            " tensor([[0.8519, 0.6503, 0.4436, 0.4355, 1.5366],\n",
            "        [1.4001, 0.7717, 0.3801, 0.2920, 1.8229],\n",
            "        [0.2237, 1.0340, 0.3526, 1.0540, 1.9251],\n",
            "        [0.0345, 0.5130, 0.3867, 1.9316, 0.1988]])\n",
            "Addition and division:\n",
            " tensor([[0.2987, 0.2454, 0.1815, 0.1788, 0.4345],\n",
            "        [0.4118, 0.2784, 0.1597, 0.1274, 0.4768],\n",
            "        [0.1006, 0.3408, 0.1499, 0.3451, 0.4905],\n",
            "        [0.0170, 0.2041, 0.1620, 0.4913, 0.0904]])\n",
            "\n",
            "Power and square root:\n",
            " tensor([[0.4260, 0.3251, 0.2218, 0.2178, 0.7683],\n",
            "        [0.7000, 0.3858, 0.1901, 0.1460, 0.9114],\n",
            "        [0.1119, 0.5170, 0.1763, 0.5270, 0.9625],\n",
            "        [0.0172, 0.2565, 0.1934, 0.9658, 0.0994]])\n",
            "\n",
            "Y -\n",
            " Min:0.02\n",
            " Max:0.97\n",
            " Standard Deviation:0.30\n",
            " Sum:8.12\n"
          ]
        }
      ],
      "source": [
        "# Lets create a 2D Tensor using torch.rand\n",
        "y = torch.rand(4, 5)\n",
        "# This will create a \"Vector\" of numbers from 0 to 1\n",
        "print(\"Our 1D Tensor:\\n\",y)\n",
        "\n",
        "# We can perform normal python scalar arithmetic on Torch tensors\n",
        "print(\"\\nScalar Multiplication:\\n\",y * 10)\n",
        "print(\"Addition and Square:\\n\",(y + 1)**2)\n",
        "print(\"Addition:\\n\",y + y)\n",
        "print(\"Addition and division:\\n\",y / (y + 1))\n",
        "\n",
        "# We can use a combination of Torch functions and normal python arithmetic\n",
        "print(\"\\nPower and square root:\\n\",torch.sqrt(y**2))\n",
        "\n",
        "# Torch tensors are objects and have functions\n",
        "print(\"\\nY -\\n Min:%.2f\\n Max:%.2f\\n Standard Deviation:%.2f\\n Sum:%.2f\" %(y.min(), y.max(), y.std(), y.sum()))"
      ]
    },
    {
      "cell_type": "markdown",
      "metadata": {
        "id": "xq1ujg_YEcRo"
      },
      "source": [
        "<h3>Tensor Opperations</h3>"
      ]
    },
    {
      "cell_type": "code",
      "execution_count": 7,
      "metadata": {
        "colab": {
          "base_uri": "https://localhost:8080/"
        },
        "id": "DKubXti_EcRo",
        "outputId": "5d7da7df-5548-40f0-8765-8cf659cf94ae"
      },
      "outputs": [
        {
          "output_type": "stream",
          "name": "stdout",
          "text": [
            "Addition:\n",
            " tensor([[[0.9696, 1.3631, 1.3219],\n",
            "         [0.7312, 1.4721, 1.6780],\n",
            "         [1.1885, 1.8209, 1.0422]],\n",
            "\n",
            "        [[0.7310, 1.3047, 0.8479],\n",
            "         [0.7492, 1.1800, 1.3970],\n",
            "         [1.5371, 1.5673, 1.4831]],\n",
            "\n",
            "        [[0.7861, 1.0666, 0.7233],\n",
            "         [0.8709, 0.9957, 1.5669],\n",
            "         [1.6110, 1.2593, 1.1409]]])\n",
            "Batch Multiplication:\n",
            " tensor([[[0.8179, 0.8674, 0.6901],\n",
            "         [1.3393, 1.4455, 1.0740],\n",
            "         [1.4089, 1.4604, 1.2470]],\n",
            "\n",
            "        [[0.4264, 0.6741, 0.5813],\n",
            "         [1.1713, 1.2305, 1.2835],\n",
            "         [1.1871, 1.4301, 1.3778]],\n",
            "\n",
            "        [[0.6832, 0.8560, 0.5448],\n",
            "         [1.1064, 1.3401, 0.7423],\n",
            "         [1.2246, 1.4053, 0.6971]]])\n"
          ]
        }
      ],
      "source": [
        "# Create two 3D Tensors\n",
        "tensor_1 = torch.rand(3,3,3)\n",
        "tensor_2 = torch.rand(3,3,3)\n",
        "\n",
        "# Add the 2 Tensors\n",
        "print(\"Addition:\\n\",tensor_1 + tensor_2)\n",
        "\n",
        "# We cannot perform a normal \"matrix\" multiplication on a 3D tensor\n",
        "# But we can treat the 3D tensor as a \"batch\" (like a stack) of 2D tensors\n",
        "# And perform normal matrix multiplication independantly on each pair of 2D matricies\n",
        "print(\"Batch Multiplication:\\n\", torch.bmm(tensor_1, tensor_2))"
      ]
    },
    {
      "cell_type": "code",
      "execution_count": 10,
      "metadata": {
        "id": "axSC4ymHEcRp",
        "colab": {
          "base_uri": "https://localhost:8080/"
        },
        "outputId": "743e6400-2d96-425e-fb58-c637f259671a"
      },
      "outputs": [
        {
          "output_type": "stream",
          "name": "stdout",
          "text": [
            "\n",
            "The origional Tensor is is:\n",
            " tensor([[[0.7353, 0.3379, 0.6888, 0.1096, 0.8986],\n",
            "         [0.9662, 0.5657, 0.9918, 0.7018, 0.6772],\n",
            "         [0.3852, 0.6965, 0.4429, 0.2744, 0.2412],\n",
            "         [0.8758, 0.0161, 0.4181, 0.7247, 0.3387]],\n",
            "\n",
            "        [[0.6002, 0.7210, 0.6213, 0.5213, 0.1320],\n",
            "         [0.6246, 0.8323, 0.3960, 0.2175, 0.0112],\n",
            "         [0.3845, 0.5858, 0.1288, 0.2720, 0.4894],\n",
            "         [0.1922, 0.8111, 0.4802, 0.4200, 0.8184]]])\n",
            "With shape:\n",
            " torch.Size([2, 4, 5])\n",
            "The Re-arranged is:\n",
            " tensor([[[0.7353, 0.6002],\n",
            "         [0.9662, 0.6246],\n",
            "         [0.3852, 0.3845],\n",
            "         [0.8758, 0.1922]],\n",
            "\n",
            "        [[0.3379, 0.7210],\n",
            "         [0.5657, 0.8323],\n",
            "         [0.6965, 0.5858],\n",
            "         [0.0161, 0.8111]],\n",
            "\n",
            "        [[0.6888, 0.6213],\n",
            "         [0.9918, 0.3960],\n",
            "         [0.4429, 0.1288],\n",
            "         [0.4181, 0.4802]],\n",
            "\n",
            "        [[0.1096, 0.5213],\n",
            "         [0.7018, 0.2175],\n",
            "         [0.2744, 0.2720],\n",
            "         [0.7247, 0.4200]],\n",
            "\n",
            "        [[0.8986, 0.1320],\n",
            "         [0.6772, 0.0112],\n",
            "         [0.2412, 0.4894],\n",
            "         [0.3387, 0.8184]]])\n",
            "With shape:\n",
            " torch.Size([5, 4, 2])\n"
          ]
        }
      ],
      "source": [
        " # Lets create a more interesting tensor\n",
        "tensor_3 = torch.rand(2,4,5) # 2 tensors of 4*5  dim\n",
        "# We can swap the Tensor dimensions\n",
        "print(\"\\nThe origional Tensor is is:\\n\", tensor_3)\n",
        "print(\"With shape:\\n\", tensor_3.shape)\n",
        "\n",
        "# Tranpose will swap the dimensions it is given\n",
        "print(\"The Re-arranged is:\\n\", tensor_3.transpose(0, 2))\n",
        "print(\"With shape:\\n\", tensor_3.transpose(0, 2).shape)"
      ]
    },
    {
      "cell_type": "code",
      "source": [
        "tensor_2d = torch.rand(2, 5)\n",
        "tensor_2d\n",
        "tensor_2d.t()\n"
      ],
      "metadata": {
        "colab": {
          "base_uri": "https://localhost:8080/"
        },
        "id": "gx46REduMy-v",
        "outputId": "47c0d013-efaf-45da-9a90-1d5c5e00b15e"
      },
      "execution_count": 11,
      "outputs": [
        {
          "output_type": "execute_result",
          "data": {
            "text/plain": [
              "tensor([[0.0879, 0.0485],\n",
              "        [0.4143, 0.2267],\n",
              "        [0.4201, 0.1867],\n",
              "        [0.2218, 0.3938],\n",
              "        [0.9675, 0.8737]])"
            ]
          },
          "metadata": {},
          "execution_count": 11
        }
      ]
    },
    {
      "cell_type": "markdown",
      "metadata": {
        "id": "zXCu3PydEcRp"
      },
      "source": [
        "<h3> Indexing </h3>\n",
        "Indexing in Pytorch works the same as it does in Numpy, see if you can predict what values will be return by the indexing"
      ]
    },
    {
      "cell_type": "code",
      "execution_count": 12,
      "metadata": {
        "id": "0v3XQaA-EcRp",
        "colab": {
          "base_uri": "https://localhost:8080/"
        },
        "outputId": "a537c22a-575c-4835-c981-49d8961980a5"
      },
      "outputs": [
        {
          "output_type": "stream",
          "name": "stdout",
          "text": [
            "Our Tensor:\n",
            " tensor([[[[0.9743, 0.9276, 0.0536, 0.7765]],\n",
            "\n",
            "         [[0.8753, 0.5939, 0.0963, 0.5065]],\n",
            "\n",
            "         [[0.7585, 0.9971, 0.7495, 0.8152]]],\n",
            "\n",
            "\n",
            "        [[[0.2837, 0.7071, 0.5062, 0.0957]],\n",
            "\n",
            "         [[0.4125, 0.0684, 0.4053, 0.1572]],\n",
            "\n",
            "         [[0.4628, 0.1015, 0.9656, 0.1581]]]])\n",
            "\n",
            "The last element of dim0:\n",
            " tensor([[[0.2837, 0.7071, 0.5062, 0.0957]],\n",
            "\n",
            "        [[0.4125, 0.0684, 0.4053, 0.1572]],\n",
            "\n",
            "        [[0.4628, 0.1015, 0.9656, 0.1581]]])\n",
            "\n",
            "Indexed elements:\n",
            " tensor([[0.8753, 0.5939, 0.0963, 0.5065]])\n",
            "\n",
            "Indexed elements:\n",
            " tensor([0.0963, 0.4053])\n"
          ]
        }
      ],
      "source": [
        "# Create a 4D Tensor\n",
        "tensor = torch.rand(2,3,1,4)\n",
        "print(\"Our Tensor:\\n\",tensor)\n",
        "\n",
        "# Select the last element of dim0\n",
        "print(\"\\nThe last element of dim0:\\n\",tensor[-1])\n",
        "\n",
        "# 1st element of dim0\n",
        "# 2nd element of dim1\n",
        "print(\"\\nIndexed elements:\\n\",tensor[0, 1])\n",
        "\n",
        "# Select all elements of dim0\n",
        "# The 2nd element of dim1\n",
        "# The 1st element of dim2\n",
        "# The 3rd element of dim3\n",
        "print(\"\\nIndexed elements:\\n\",tensor[:, 1, 0, 2])"
      ]
    },
    {
      "cell_type": "markdown",
      "metadata": {
        "id": "qV62op7xEcRp"
      },
      "source": [
        "<h3> Describing Tensors </h3> <br>\n",
        "Lets see how we can view the characteristics of our Tensors"
      ]
    },
    {
      "cell_type": "code",
      "execution_count": 13,
      "metadata": {
        "id": "Z932HcamEcRp",
        "colab": {
          "base_uri": "https://localhost:8080/"
        },
        "outputId": "32c130d5-3a9a-45d8-cbd7-3f71be79f652"
      },
      "outputs": [
        {
          "output_type": "stream",
          "name": "stdout",
          "text": [
            "The Tensor's shape is: torch.Size([3, 5, 3, 2])\n",
            "The Tensor's shape using size() is: torch.Size([3, 5, 3, 2])\n",
            "There are 90 elements in total:\n",
            "There are 4 Dimensions\n"
          ]
        }
      ],
      "source": [
        "# Lets create a large 4D Tensor\n",
        "tensor = torch.rand(3, 5, 3, 2)\n",
        "\n",
        "# View the Number of elements in every dimension\n",
        "print(\"The Tensor's shape is:\", tensor.shape)\n",
        "\n",
        "# In Pytorch shape and size() do the same thing!\n",
        "print(\"The Tensor's shape using size() is:\", tensor.size())\n",
        "\n",
        "# View the number of elements in total\n",
        "print(\"There are %d elements in total:\" % tensor.numel()) # 3*5*3*2\n",
        "\n",
        "# View the number of Dimensions\n",
        "print(\"There are %d Dimensions\" %(tensor.ndim))"
      ]
    },
    {
      "cell_type": "markdown",
      "metadata": {
        "id": "q6jvFiFaEcRq"
      },
      "source": [
        "<h3> Reshaping </h3> <br>\n",
        "We can change a Tensor to one of the same size (same number of elements) but a different shape by using functions in a similar fashion to Numpy but with different functions!"
      ]
    },
    {
      "cell_type": "code",
      "execution_count": 14,
      "metadata": {
        "id": "W1793LZKEcRq",
        "colab": {
          "base_uri": "https://localhost:8080/"
        },
        "outputId": "b232fbb9-2215-4911-f6ef-fe6cdce64de3"
      },
      "outputs": [
        {
          "output_type": "stream",
          "name": "stdout",
          "text": [
            "Reshape to 3x30:\n",
            " tensor([[0.1823, 0.4217, 0.7861, 0.4959, 0.6769, 0.1256, 0.7768, 0.1222, 0.1357,\n",
            "         0.4505, 0.3883, 0.6592, 0.5286, 0.1604, 0.6376, 0.3271, 0.5848, 0.8293,\n",
            "         0.6386, 0.7563, 0.6622, 0.1833, 0.7917, 0.3974, 0.0691, 0.2205, 0.4061,\n",
            "         0.4677, 0.6617, 0.7625],\n",
            "        [0.6744, 0.4335, 0.8408, 0.0708, 0.5530, 0.4522, 0.5912, 0.0718, 0.1949,\n",
            "         0.5751, 0.7601, 0.8782, 0.6358, 0.2532, 0.3267, 0.9275, 0.2117, 0.3925,\n",
            "         0.4143, 0.5940, 0.6497, 0.9760, 0.6438, 0.6356, 0.0711, 0.5966, 0.1882,\n",
            "         0.5698, 0.4548, 0.3497],\n",
            "        [0.6283, 0.6066, 0.8214, 0.4134, 0.8937, 0.4289, 0.4099, 0.8894, 0.9176,\n",
            "         0.2919, 0.6142, 0.4413, 0.1058, 0.4889, 0.9228, 0.0541, 0.4109, 0.6091,\n",
            "         0.4808, 0.9762, 0.0902, 0.2915, 0.3291, 0.3146, 0.9350, 0.2045, 0.4325,\n",
            "         0.4304, 0.4301, 0.3979]])\n",
            "Flatten to a 1D Tensor:\n",
            " tensor([0.1823, 0.4217, 0.7861, 0.4959, 0.6769, 0.1256, 0.7768, 0.1222, 0.1357,\n",
            "        0.4505, 0.3883, 0.6592, 0.5286, 0.1604, 0.6376, 0.3271, 0.5848, 0.8293,\n",
            "        0.6386, 0.7563, 0.6622, 0.1833, 0.7917, 0.3974, 0.0691, 0.2205, 0.4061,\n",
            "        0.4677, 0.6617, 0.7625, 0.6744, 0.4335, 0.8408, 0.0708, 0.5530, 0.4522,\n",
            "        0.5912, 0.0718, 0.1949, 0.5751, 0.7601, 0.8782, 0.6358, 0.2532, 0.3267,\n",
            "        0.9275, 0.2117, 0.3925, 0.4143, 0.5940, 0.6497, 0.9760, 0.6438, 0.6356,\n",
            "        0.0711, 0.5966, 0.1882, 0.5698, 0.4548, 0.3497, 0.6283, 0.6066, 0.8214,\n",
            "        0.4134, 0.8937, 0.4289, 0.4099, 0.8894, 0.9176, 0.2919, 0.6142, 0.4413,\n",
            "        0.1058, 0.4889, 0.9228, 0.0541, 0.4109, 0.6091, 0.4808, 0.9762, 0.0902,\n",
            "        0.2915, 0.3291, 0.3146, 0.9350, 0.2045, 0.4325, 0.4304, 0.4301, 0.3979])\n",
            "Reshape to 10xwhatever:\n",
            " tensor([[0.1823, 0.4217, 0.7861, 0.4959, 0.6769, 0.1256, 0.7768, 0.1222, 0.1357],\n",
            "        [0.4505, 0.3883, 0.6592, 0.5286, 0.1604, 0.6376, 0.3271, 0.5848, 0.8293],\n",
            "        [0.6386, 0.7563, 0.6622, 0.1833, 0.7917, 0.3974, 0.0691, 0.2205, 0.4061],\n",
            "        [0.4677, 0.6617, 0.7625, 0.6744, 0.4335, 0.8408, 0.0708, 0.5530, 0.4522],\n",
            "        [0.5912, 0.0718, 0.1949, 0.5751, 0.7601, 0.8782, 0.6358, 0.2532, 0.3267],\n",
            "        [0.9275, 0.2117, 0.3925, 0.4143, 0.5940, 0.6497, 0.9760, 0.6438, 0.6356],\n",
            "        [0.0711, 0.5966, 0.1882, 0.5698, 0.4548, 0.3497, 0.6283, 0.6066, 0.8214],\n",
            "        [0.4134, 0.8937, 0.4289, 0.4099, 0.8894, 0.9176, 0.2919, 0.6142, 0.4413],\n",
            "        [0.1058, 0.4889, 0.9228, 0.0541, 0.4109, 0.6091, 0.4808, 0.9762, 0.0902],\n",
            "        [0.2915, 0.3291, 0.3146, 0.9350, 0.2045, 0.4325, 0.4304, 0.4301, 0.3979]])\n"
          ]
        }
      ],
      "source": [
        "# Let us reshape our Tensor to a 2D Tensor\n",
        "print(\"Reshape to 3x30:\\n\", tensor.reshape(3, 30))\n",
        "\n",
        "# We can also use the Flatten method to convert to a 1D Tensor\n",
        "print(\"Flatten to a 1D Tensor:\\n\",tensor.flatten())\n",
        "\n",
        "# Here the -1 tells Pytorch to put as many elements as it needs here in order to maintain the given dimention sizes\n",
        "# AKA \"I don't care the size of this dimention as long as the first one is 10\"\n",
        "print(\"Reshape to 10xwhatever:\\n\",tensor.reshape(10, -1))"
      ]
    },
    {
      "cell_type": "markdown",
      "metadata": {
        "id": "bpGIJlTxEcRq"
      },
      "source": [
        "<h4>Squeezing and Unsqueezing </h4>\n",
        "A very common shape-changing operation is to add an \"empty\" dimension to ensure the shape (specifically the number of dimensions) of the tensor is correct for certain functions. <br>\n",
        "For example, when we start using Pytorch Neural Network modules, we need to provide the input of the network with a \"batch\" dimension (we often pass multiple inputs to our network at once) even if we only pass 1 datapoint!"
      ]
    },
    {
      "cell_type": "code",
      "execution_count": 15,
      "metadata": {
        "id": "karjLtRsEcRq",
        "colab": {
          "base_uri": "https://localhost:8080/"
        },
        "outputId": "426920d6-5602-4d58-8c74-b79dc88431d0"
      },
      "outputs": [
        {
          "output_type": "stream",
          "name": "stdout",
          "text": [
            "The Tensors shape is: torch.Size([3, 2])\n",
            "Add an empty dimenson to dim3: torch.Size([3, 2, 1])\n",
            "Add an empty dimenson to dim2: torch.Size([3, 1, 2])\n"
          ]
        }
      ],
      "source": [
        "# Lets create a 2D Tensor\n",
        "tensor = torch.rand(3, 2)\n",
        "\n",
        "# View the Number of elements in every dimension\n",
        "print(\"The Tensors shape is:\", tensor.shape)\n",
        "\n",
        "# Unsqueeze adds an \"empty\" dimension to our Tensor\n",
        "print(\"Add an empty dimenson to dim3:\", tensor.unsqueeze(2).shape)\n",
        "\n",
        "# Unsqueeze adds an \"empty\" dimension to our Tensor\n",
        "print(\"Add an empty dimenson to dim2:\", tensor.unsqueeze(1).shape)"
      ]
    },
    {
      "cell_type": "code",
      "execution_count": 17,
      "metadata": {
        "id": "gO6rZgiUEcRq",
        "colab": {
          "base_uri": "https://localhost:8080/"
        },
        "outputId": "bba03eed-c2e6-4699-8a40-55bc84ea9e63"
      },
      "outputs": [
        {
          "output_type": "stream",
          "name": "stdout",
          "text": [
            "The Tensors shape is: torch.Size([1, 3, 1, 2])\n",
            "Remove empty dimenson dim3: torch.Size([1, 3, 2])\n",
            "Remove empty dimenson dim0: torch.Size([3, 1, 2])\n",
            "Remove all empty dimensons: torch.Size([3, 2])\n"
          ]
        }
      ],
      "source": [
        "# Lets create a 4D Tensor with a few \"empty\" dimensions\n",
        "tensor = torch.rand(1, 3, 1, 2)\n",
        "\n",
        "# view the Number of elements in every dimension\n",
        "print(\"The Tensors shape is:\", tensor.shape)\n",
        "\n",
        "# squeeze removes an \"empty\" dimension from our Tensor\n",
        "print(\"Remove empty dimenson dim3:\", tensor.squeeze(2).shape)\n",
        "\n",
        "# squeeze removes an \"empty\" dimension from our Tensor\n",
        "print(\"Remove empty dimenson dim0:\", tensor.squeeze(0).shape)\n",
        "\n",
        "# If we don't specify a dimension, squeeze will remove ALL empty dimensions\n",
        "print(\"Remove all empty dimensons:\", tensor.squeeze().shape)\n",
        "\n",
        "# squeeze -> dimension remove\n",
        "# unsqueeze -> dimension added"
      ]
    },
    {
      "cell_type": "markdown",
      "metadata": {
        "id": "5cYCIhdbEcRq"
      },
      "source": [
        "<h3> Broadcasting </h3>\n",
        "Broadcasting also works in Pytorch!"
      ]
    },
    {
      "cell_type": "code",
      "execution_count": 18,
      "metadata": {
        "id": "cFXDwuN3EcRq",
        "colab": {
          "base_uri": "https://localhost:8080/"
        },
        "outputId": "f3b80c12-4e55-4341-f4c3-35eb920c745e"
      },
      "outputs": [
        {
          "output_type": "stream",
          "name": "stdout",
          "text": [
            "Tensor 1 shape:\n",
            " torch.Size([1, 4, 3, 1])\n",
            "Tensor 2 shape:\n",
            " torch.Size([3, 4, 1, 4])\n",
            "The resulting shape is:\n",
            " torch.Size([3, 4, 3, 4])\n"
          ]
        }
      ],
      "source": [
        "# Lets create 2 differently shaped 4D Tensors (Matrices)\n",
        "tensor1 = torch.rand(1, 4, 3, 1)\n",
        "tensor2 = torch.rand(3, 4, 1, 4)\n",
        "\n",
        "print(\"Tensor 1 shape:\\n\", tensor1.shape)\n",
        "print(\"Tensor 2 shape:\\n\", tensor2.shape)\n",
        "\n",
        "tensor3 = tensor1 + tensor2\n",
        "\n",
        "print(\"The resulting shape is:\\n\", tensor3.shape)"
      ]
    },
    {
      "cell_type": "markdown",
      "metadata": {
        "id": "YB6AXWcvEcRq"
      },
      "source": [
        "<h1> Pytorch Autograd </h1>\n",
        "<h3>Lets see Numpy do this!</h3>\n",
        "Now on to something that makes Pytorch (and other Deep Learning frameworks) unique, the auto-differentiable computational graphs! (don't worry about how this exactly works)<br>\n",
        "\n",
        "Remember how we compute the gradients of parameters (weights) of a model by \"backpropagation\". First we calculate the \"gradient\" of the loss with respect to the model's output and then using the chain rule find the gradient of the loss with respect to the parameters or the input and on and on for larger networks. Seems like a pretty repetitive process governed by some well known rules right? Well you know what is good at doing repetitive well defined things?!?! Computers!!<br>\n",
        "\n",
        "[Youtube - Backpropagation Main Ideas by StatQuest](https://www.youtube.com/watch?v=IN2XmBhILt4&list=PLblh5JKOoLUIxGDQs4LFFD--41Vzf-ME1&index=6)\n",
        "\n",
        "[Youtube - What is backpropagation really doing? by 3Blue1Brown](https://www.youtube.com/watch?v=Ilg3gGewQ5U)\n",
        "\n",
        "[Blog - Yes you should understand backprop by Andrej Karpathy](https://karpathy.medium.com/yes-you-should-understand-backprop-e2f06eab496b)\n",
        "\n",
        "This \"automatic\" backpropagation (among other things) is what Pytorch REALLY gives us that makes training Neural Networks easy. So how does it do it? Well first Pytorch keeps track of everything we do!! (unless we tell it not to) It does this by forming a \"computational graph\" - a tree-like structure of all the operations we perform starting at some initial tensor. When we tell Pytorch to backpropagate from some point, it works backwards up this tree and calculates and stores the gradients with respect to the point from where we back propagated from."
      ]
    },
    {
      "cell_type": "markdown",
      "metadata": {
        "id": "Xx3NDTvjEcRr"
      },
      "source": [
        "Lets see an example of this!"
      ]
    },
    {
      "cell_type": "code",
      "execution_count": 19,
      "metadata": {
        "id": "f-Cx1PjqEcRr",
        "colab": {
          "base_uri": "https://localhost:8080/"
        },
        "outputId": "2160dd29-1829-4070-9474-c551b269ddb3"
      },
      "outputs": [
        {
          "output_type": "stream",
          "name": "stdout",
          "text": [
            "Calculated Gradients\n",
            "dy/dx 2.0\n",
            "dy/dw 4.0\n",
            "dy/db 1.0\n"
          ]
        }
      ],
      "source": [
        "# Lets create some tensors, requires_grad tells Pytorch we want to store the gradients for this tensor\n",
        "# we need to do this if we are working with basic Pytorch tensors\n",
        "x = torch.FloatTensor([4])\n",
        "x.requires_grad = True\n",
        "w = torch.FloatTensor([2])\n",
        "w.requires_grad = True\n",
        "b = torch.FloatTensor([3])\n",
        "b.requires_grad = True\n",
        "\n",
        "# By performing a simple computation Pytorch will build a computational graph.\n",
        "y = w * x + b    # y = 2 * x + 3\n",
        "\n",
        "# It's easy to see that\n",
        "# dy/dx = w = 2\n",
        "# dy/dw = x = 4\n",
        "# dy/db = 1\n",
        "\n",
        "# Compute gradients via Pytorch's Autograd\n",
        "y.backward()\n",
        "\n",
        "# Print out the calculated gradients\n",
        "# These gradients are the gradients with respect to the point where we backprop'd from - y\n",
        "# Create your own equation and use the auto backprop to see the partial derivatives!\n",
        "print(\"Calculated Gradients\")\n",
        "print(\"dy/dx\", x.grad.item())    # x.grad = dy/dx = 2\n",
        "print(\"dy/dw\", w.grad.item())    # w.grad = dy/dw = 4\n",
        "print(\"dy/db\", b.grad.item())   # b.grad = dy/db = 1\n",
        "# Note: .item() simply returns a 0D Tensor as a Python scalar"
      ]
    },
    {
      "cell_type": "markdown",
      "metadata": {
        "id": "nJn_Et2wEcRr"
      },
      "source": [
        "<h3> Finding the minimum </h3>\n",
        "We can use gradient decent to find the minimum of an equation"
      ]
    },
    {
      "cell_type": "code",
      "execution_count": 20,
      "metadata": {
        "id": "c6bUNhhoEcRr",
        "colab": {
          "base_uri": "https://localhost:8080/",
          "height": 448
        },
        "outputId": "cd952645-9768-4bd1-9544-7568e51cba2b"
      },
      "outputs": [
        {
          "output_type": "execute_result",
          "data": {
            "text/plain": [
              "[<matplotlib.lines.Line2D at 0x7dc3b2ceb8b0>]"
            ]
          },
          "metadata": {},
          "execution_count": 20
        },
        {
          "output_type": "display_data",
          "data": {
            "text/plain": [
              "<Figure size 640x480 with 1 Axes>"
            ],
            "image/png": "[encoded data removed]"
          },
          "metadata": {}
        }
      ],
      "source": [
        "# Lets find the minimum of a parabola!\n",
        "\n",
        "# Define the equation as a lambda function\n",
        "fx = lambda  x: x**2 + 1.5 * x - 1\n",
        "\n",
        "x = np.linspace(-10, 8.5, 100)\n",
        "\n",
        "plt.plot(x, fx(x))"
      ]
    },
    {
      "cell_type": "code",
      "execution_count": 21,
      "metadata": {
        "id": "HsgocZtBEcRs",
        "colab": {
          "base_uri": "https://localhost:8080/"
        },
        "outputId": "ebd09f84-3533-4253-84db-feef127796b7"
      },
      "outputs": [
        {
          "output_type": "stream",
          "name": "stdout",
          "text": [
            "dy/dx is 8.20 when x is 3.35\n"
          ]
        }
      ],
      "source": [
        "# Create a random point X\n",
        "x_ = torch.randn(1)\n",
        "x_.requires_grad = True\n",
        "\n",
        "# Lets use Pytorch's Autograd to find the gradient at this point\n",
        "y_ = fx(x_)\n",
        "y_.backward()\n",
        "\n",
        "# The gradient tells us the direction to travel to increase Y\n",
        "dy_dx_ = x_.grad.item()\n",
        "print(\"dy/dx is %.2f when x is %.2f\" % (dy_dx_, x_))"
      ]
    },
    {
      "cell_type": "code",
      "execution_count": 22,
      "metadata": {
        "id": "YxT1Fzr6EcRs",
        "colab": {
          "base_uri": "https://localhost:8080/"
        },
        "outputId": "04bed6cf-d757-4529-9311-45c77135f2f1"
      },
      "outputs": [
        {
          "output_type": "stream",
          "name": "stdout",
          "text": [
            "Y minimum is -1.56 and is when X = -0.75, found after 398 steps\n"
          ]
        }
      ],
      "source": [
        "# Lets take some steps to decend the gradient!\n",
        "\n",
        "# Create a random point X\n",
        "x_ = torch.randn(1)\n",
        "x_.requires_grad = True\n",
        "\n",
        "# Create some loggers\n",
        "x_logger = []\n",
        "y_logger = []\n",
        "\n",
        "# We'll keep track of how many steps we've done\n",
        "counter = 0\n",
        "\n",
        "# Set a scale for the step size\n",
        "learning_rate = 0.01\n",
        "\n",
        "# Initialise the gradient to a large value\n",
        "dy_dx_ = 1000\n",
        "\n",
        "# We'll limit the max number of steps so we don't create an infinite loop\n",
        "max_num_steps = 1000\n",
        "\n",
        "# Keep taking steps untill the gradient is small\n",
        "while np.abs(dy_dx_) > 0.001:\n",
        "    # Get the Y point at the current x value\n",
        "    y_ = fx(x_)\n",
        "\n",
        "    # Calculate the gradient at this point\n",
        "    y_.backward()\n",
        "    dy_dx_ = x_.grad.item()\n",
        "\n",
        "    # Pytorch will not keep track of operations within a torch.no_grad() block\n",
        "    # We don't want Pytorch to add our gradient decent step to the computational graph!\n",
        "    with torch.no_grad():\n",
        "        # Take a step down (decend) the curve\n",
        "        x_ -= learning_rate * dy_dx_\n",
        "\n",
        "        # Pytorch will accumulate the gradient over multiple backward passes\n",
        "        # For our use case we don't want this to happen so we need to set it to zero\n",
        "        # After we have used it\n",
        "        x_.grad.zero_() #Clears the gradient after it is used, since PyTorch accumulates gradients by default. This ensures the gradient from previous steps doesn’t interfere with future iterations\n",
        "\n",
        "        # Log the X and Y points to plot\n",
        "        x_logger.append(x_.item())\n",
        "        y_logger.append(y_.item())\n",
        "\n",
        "    counter += 1\n",
        "\n",
        "    if counter == max_num_steps:\n",
        "        break\n",
        "\n",
        "print(\"Y minimum is %.2f and is when X = %.2f, found after %d steps\" % (y_.item(), x_.item(), counter))"
      ]
    },
    {
      "cell_type": "markdown",
      "metadata": {
        "id": "x5Q5ADFjEcRt"
      },
      "source": [
        "<h1>Models and Optimizers</h1>\n",
        "\n",
        "<h2>Pytorch nn.Module</h2>\n",
        "In Pytorch the basic template for creating our models is the \"Module\" class within torch.nn. To create our own class we inherit this class as the \"superclass\" so that we have access to all the properties and functions. <br>\n",
        "Lets create our own constructor of this class!\n",
        "\n",
        "The two main functions we need to create are the <b>\\__init__</b> and <b>forward</b> functions. We've already seen <b>\\__init__</b> so lets looks at <b>forward</b><br>\n",
        "\n",
        "The <b>forward</b> function is the only function that we MUST create when we build our class, Pytorch uses this fuction as the \"entry point\" to our model and is what is called when we do a forward pass of our model.\n"
      ]
    },
    {
      "cell_type": "code",
      "execution_count": 3,
      "metadata": {
        "id": "h602JDC8EcRt"
      },
      "outputs": [],
      "source": [
        "class SimpleFunction(nn.Module):\n",
        "    \"\"\"\n",
        "    Simple implementation of an nn.Module subclass\n",
        "    Takes the input (x) and returns x * 4 + 2\n",
        "    \"\"\"\n",
        "    def __init__(self):\n",
        "        # Pass our class and self to superclass and call the superclass's init function\n",
        "        super(SimpleFunction, self).__init__()\n",
        "\n",
        "    def forward(self, x):\n",
        "        return x * 4 + 2"
      ]
    },
    {
      "cell_type": "code",
      "execution_count": 4,
      "metadata": {
        "id": "gN_XGS_pEcR5",
        "colab": {
          "base_uri": "https://localhost:8080/"
        },
        "outputId": "074d04bf-4d2b-4901-b29b-306d890827af"
      },
      "outputs": [
        {
          "output_type": "stream",
          "name": "stdout",
          "text": [
            "Class output: 42\n"
          ]
        }
      ],
      "source": [
        "# Create an instance of our class\n",
        "simple_function = SimpleFunction()\n",
        "# Perform a \"forward pass\" of our class\n",
        "output = simple_function(10)\n",
        "print(\"Class output:\", output)\n",
        "# Note we do NOT need to explicitly call the .forward() function of our class,\n",
        "# a forward pass of our models is such a common step that Pytorch makes it easier and cleaner for us to do"
      ]
    },
    {
      "cell_type": "markdown",
      "metadata": {
        "id": "eI7DEztcEcR6"
      },
      "source": [
        "<h3>A more complicated model </h3><br>\n",
        "The previous nn.Module class that we created wasn't really a ML \"model\", lets create something that we've seen before; a simple linear model."
      ]
    },
    {
      "cell_type": "code",
      "execution_count": 5,
      "metadata": {
        "id": "4ETLcTVxEcR6"
      },
      "outputs": [],
      "source": [
        "class LinearModel(nn.Module):\n",
        "    \"\"\"\n",
        "    Takes the input (x) and returns x * w^t + b\n",
        "    \"\"\"\n",
        "    def __init__(self, input_size, output_size):\n",
        "        # Pass our class and self to superclass and call the superclass's init function\n",
        "        super(LinearModel, self).__init__()\n",
        "        # nn.Parameter wraps our normal tensors and \"tells\" Pytorch\n",
        "        # that they are our nn.Module's model parameters to be optimized\n",
        "        self.w = nn.Parameter(torch.randn(output_size, input_size))\n",
        "        self.b = nn.Parameter(torch.randn(1, output_size))\n",
        "\n",
        "    def forward(self, x):\n",
        "        return torch.matmul(x,  self.w.t()) + self.b"
      ]
    },
    {
      "cell_type": "code",
      "execution_count": 6,
      "metadata": {
        "id": "4ux4P8oTEcR6",
        "colab": {
          "base_uri": "https://localhost:8080/"
        },
        "outputId": "214622a5-ae8b-498e-fc1b-5cb900aadbad"
      },
      "outputs": [
        {
          "output_type": "stream",
          "name": "stdout",
          "text": [
            "torch.Size([10, 1])\n",
            "tensor([[ 0.6126],\n",
            "        [-0.7982],\n",
            "        [-4.1727],\n",
            "        [-2.0776],\n",
            "        [ 0.8214],\n",
            "        [ 3.8583],\n",
            "        [-0.8009],\n",
            "        [-1.4913],\n",
            "        [ 0.0880],\n",
            "        [-1.8033]])\n"
          ]
        }
      ],
      "source": [
        "# Create a batch of 10 datapoints each 5D\n",
        "input_data = torch.randn(10, 5)\n",
        "\n",
        "# Create an instance of our Model\n",
        "linear_model = LinearModel(5, 1)\n",
        "\n",
        "# Perform a forward pass!\n",
        "output = linear_model(input_data)\n",
        "\n",
        "print(output.shape)\n",
        "print(output.detach())\n",
        "# Note: detach \"disconnects\" the tensor and returns it with no history of previous calculations"
      ]
    },
    {
      "cell_type": "markdown",
      "metadata": {
        "id": "EMRWC_ZbEcR7"
      },
      "source": [
        "<h2>Pytorch inbuilt Neural Network Layers</h2>\n",
        "The \"Linear layer\" is so common place that Pytorch already has an implementation of it, in fact Pytorch has implementations of most Layer types which act as building blocks for our multi-layer models. For now lets just see how we can implement Pytorch's linear layer (we will see may more layer types later in the semester!).<br>\n",
        "<b>Things to know!</b><br>\n",
        "- Pytorch initialises the weights and biases of it's layers in very particular ways (not just from a normal distribution!), usualy based off of deep learning research, see the documentation for more details.<br>\n",
        "- Pytorch includes a bias term in it's layers by default."
      ]
    },
    {
      "cell_type": "code",
      "execution_count": 7,
      "metadata": {
        "id": "icguQRVZEcR7",
        "colab": {
          "base_uri": "https://localhost:8080/"
        },
        "outputId": "fe18bf11-916b-47a1-fb9c-a947a2adc40f"
      },
      "outputs": [
        {
          "output_type": "stream",
          "name": "stdout",
          "text": [
            "w:\n",
            " tensor([[ 0.0606, -0.2681, -0.1048]])\n",
            "b:\n",
            " tensor([0.4239])\n",
            "w shape:\n",
            " torch.Size([1, 3])\n",
            "b shape:\n",
            " torch.Size([1])\n"
          ]
        }
      ],
      "source": [
        "# Build a linear layer aka a \"fully connected\" layer aka a \"Perceptron\" layer\n",
        "# nn.Linear(Number of inputs, Number of outputs)\n",
        "linear = nn.Linear(3, 1)\n",
        "\n",
        "# Lets have a look at the parameters of this layer\n",
        "# The \"weights\" are what is multipied by the input data\n",
        "print ('w:\\n', linear.weight.data)\n",
        "# The bias is then added on!\n",
        "print ('b:\\n', linear.bias.data)\n",
        "\n",
        "print ('w shape:\\n', linear.weight.data.shape)\n",
        "print ('b shape:\\n', linear.bias.data.shape)\n",
        "# Note: .data just gives us the raw Tensor without any connection to the computational graph\n",
        "# - it looks nicer when we print it out\n",
        "# Note: The opperation the linear layer performs is y = x*A^t + b\n",
        "# where A^t is the transpose of the weights and b is the bias,\n",
        "# this opperation is also know as an \"affine transformation\""
      ]
    },
    {
      "cell_type": "code",
      "execution_count": 8,
      "metadata": {
        "id": "vYXFRsyKEcR7",
        "colab": {
          "base_uri": "https://localhost:8080/"
        },
        "outputId": "7a405844-67f1-47e0-cc3a-16aec0ebacb4"
      },
      "outputs": [
        {
          "output_type": "stream",
          "name": "stdout",
          "text": [
            "w:\n",
            " None\n",
            "b:\n",
            " None\n"
          ]
        }
      ],
      "source": [
        "# Lets have a look at the gradients of these parameters\n",
        "print ('w:\\n', linear.weight.grad)\n",
        "print ('b:\\n', linear.bias.grad)\n",
        "# Note: Pytorch initialises the grad of the tensors to \"None\" NOT 0!\n",
        "# They only get created after the first backwards pass."
      ]
    },
    {
      "cell_type": "code",
      "execution_count": 9,
      "metadata": {
        "id": "aAcdCGrsEcR7",
        "colab": {
          "base_uri": "https://localhost:8080/"
        },
        "outputId": "2febc440-0292-4dd3-fc41-62a01bb2b638"
      },
      "outputs": [
        {
          "output_type": "stream",
          "name": "stdout",
          "text": [
            "Input data:\n",
            " tensor([[-2.5178,  0.7553, -0.8092],\n",
            "        [ 0.1039,  1.5865, -1.5672],\n",
            "        [-1.0086,  1.1215,  0.8926],\n",
            "        [ 0.7718,  0.5530, -0.0746],\n",
            "        [ 0.4186, -0.6833, -1.4104],\n",
            "        [-1.0905, -0.4663, -0.4216],\n",
            "        [ 1.7729,  0.2431, -1.1217],\n",
            "        [-0.2904,  0.2363,  0.1703],\n",
            "        [-1.0582,  1.0084, -0.1673],\n",
            "        [ 1.1558, -0.6248,  0.4850]])\n",
            "Output data:\n",
            " tensor([[-2.5789],\n",
            "        [ 0.1166],\n",
            "        [ 1.0041],\n",
            "        [ 1.2616],\n",
            "        [-1.6842],\n",
            "        [-1.9758],\n",
            "        [ 0.8957],\n",
            "        [ 0.1116],\n",
            "        [-0.2122],\n",
            "        [ 1.0018]])\n"
          ]
        }
      ],
      "source": [
        "# Create a random data input tensor\n",
        "data = torch.randn(100, 3)\n",
        "# Create some noisey target data\n",
        "target = data.sum(1, keepdims=True) + 0.01*torch.randn(data.shape[0], 1)\n",
        "print ('Input data:\\n', data[:10])\n",
        "print ('Output data:\\n', target[:10])"
      ]
    },
    {
      "cell_type": "markdown",
      "metadata": {
        "id": "YlFyRBoPEcR7"
      },
      "source": [
        "Now that everything is set up, lets perform a \"forward pass\" of our model, aka let's put the data into the model and see what comes out."
      ]
    },
    {
      "cell_type": "code",
      "execution_count": 10,
      "metadata": {
        "id": "3N975tR-EcR8",
        "colab": {
          "base_uri": "https://localhost:8080/"
        },
        "outputId": "b7ea59b4-393f-416c-c897-665bcc8e7e3d"
      },
      "outputs": [
        {
          "output_type": "stream",
          "name": "stdout",
          "text": [
            "Network output:\n",
            " tensor([[ 0.1536],\n",
            "        [ 0.1691],\n",
            "        [-0.0315],\n",
            "        [ 0.3302],\n",
            "        [ 0.7802],\n",
            "        [ 0.5270],\n",
            "        [ 0.5836],\n",
            "        [ 0.3251],\n",
            "        [ 0.1069],\n",
            "        [ 0.6105]])\n",
            "Network output shape: torch.Size([100, 1])\n"
          ]
        }
      ],
      "source": [
        "# Remember! To perform a forward pass of our model, we just need to \"call\" our network\n",
        "# Pytorch's nn.Module class will automatically pass it to the \"forward\" function in the layer class\n",
        "target_pred = linear(data)\n",
        "print(\"Network output:\\n\", target_pred.data[:10])\n",
        "print(\"Network output shape:\", target_pred.shape)"
      ]
    },
    {
      "cell_type": "markdown",
      "metadata": {
        "id": "rDEyARk4EcR8"
      },
      "source": [
        "<h3>Loss Functions and Optimizers</h3>\n",
        "Now lets see how Pytorch helps us optimize our model!<br>\n",
        "<b>Loss functions</b><br>\n",
        "We've already seen loss function's before and defined our own, but using Pytorch we can pick from some pre-defined functions (we can also just create our own).\n",
        "\n",
        "<b>Optimizers</b><br>\n",
        "This is the object that will be doing the parameter updates for us! Pytorch has a number of different optimizers, some of which we will explore in future labs. For now we will just use our well known Gradient Descent (GD) optimizer.<br>\n",
        "Note: Most optimizers are just some variant of GD"
      ]
    },
    {
      "cell_type": "code",
      "execution_count": 11,
      "metadata": {
        "id": "SM-MrcPzEcR8"
      },
      "outputs": [],
      "source": [
        "# Lets perform a regression with a mean square error loss\n",
        "loss_function = nn.MSELoss()\n",
        "\n",
        "# Lets create a Stochastic gradient descent optimizer with a learning rate of 0.01\n",
        "# (the way we will be using it, it is just normal GD)\n",
        "# When we create the optimizer we need to tell it WHAT it needs to optimize, so the first thing\n",
        "# We pass it are the linear layer's \"parameters\"\n",
        "optimizer = torch.optim.SGD(linear.parameters(), lr=0.01)"
      ]
    },
    {
      "cell_type": "markdown",
      "metadata": {
        "id": "25Za33ONEcR8"
      },
      "source": [
        "We can see from the following scatter plot that the outout of our model is NOT the same as our target data, let's see what the MSE loss is."
      ]
    },
    {
      "cell_type": "code",
      "execution_count": 12,
      "metadata": {
        "id": "OLp_yhMPEcR8",
        "colab": {
          "base_uri": "https://localhost:8080/",
          "height": 467
        },
        "outputId": "efeebca0-70e6-4f88-9ef7-15ac7ce8db08"
      },
      "outputs": [
        {
          "output_type": "execute_result",
          "data": {
            "text/plain": [
              "Text(0, 0.5, 'Ouputs')"
            ]
          },
          "metadata": {},
          "execution_count": 12
        },
        {
          "output_type": "display_data",
          "data": {
            "text/plain": [
              "<Figure size 640x480 with 1 Axes>"
            ],
            "image/png": "[encoded data removed]"
          },
          "metadata": {}
        }
      ],
      "source": [
        "# Plotting the first dimension of the input vs the output\n",
        "\n",
        "# Use the outputs of the model from a few cells ago\n",
        "plt.scatter(data[:, 0], target_pred.detach())\n",
        "# Use the Ground Truth data\n",
        "plt.scatter(data[:, 0], target, marker=\"x\")\n",
        "plt.legend([\"Predictions\", \"Ground Truth Data\"])\n",
        "plt.xlabel(\"Inputs\")\n",
        "plt.ylabel(\"Ouputs\")"
      ]
    },
    {
      "cell_type": "code",
      "execution_count": 13,
      "metadata": {
        "id": "Aj-lFabvEcR9",
        "colab": {
          "base_uri": "https://localhost:8080/"
        },
        "outputId": "52fa0ff6-a5eb-4980-e512-ae6be56b9d15"
      },
      "outputs": [
        {
          "output_type": "stream",
          "name": "stdout",
          "text": [
            "loss: 3.548301935195923\n"
          ]
        }
      ],
      "source": [
        "loss = loss_function(target_pred, target)\n",
        "print('loss:', loss.item())"
      ]
    },
    {
      "cell_type": "markdown",
      "metadata": {
        "id": "KEw2rBNrEcR9"
      },
      "source": [
        "Lets perform a backward pass of our model to compute the gradients!"
      ]
    },
    {
      "cell_type": "code",
      "execution_count": 14,
      "metadata": {
        "id": "dXtEa5HsEcR9",
        "colab": {
          "base_uri": "https://localhost:8080/"
        },
        "outputId": "2c454ee6-ff54-47d2-bb38-4b76f669a2b9"
      },
      "outputs": [
        {
          "output_type": "stream",
          "name": "stdout",
          "text": [
            "dL/dw:  tensor([[-2.1849, -2.0302, -1.7496]])\n",
            "dL/db:  tensor([1.2589])\n"
          ]
        }
      ],
      "source": [
        "# Backward pass.\n",
        "loss.backward()\n",
        "# Print out the gradients.\n",
        "print ('dL/dw: ', linear.weight.grad)\n",
        "print ('dL/db: ', linear.bias.grad)\n",
        "# Note for every backwards pass of the model we must first perform a forward pass\n",
        "# as data from parts of the computational graph have been deleted upon the backward pass to save memory.\n",
        "# We can tell Pytorch to hold onto this data, but, in many cases it needs to be recalculated anyway"
      ]
    },
    {
      "cell_type": "markdown",
      "metadata": {
        "id": "4ULKy5efEcR_"
      },
      "source": [
        "Now, finally, tell the optimizer to perform an update step!"
      ]
    },
    {
      "cell_type": "code",
      "execution_count": 15,
      "metadata": {
        "id": "ly3BKnD3EcR_",
        "colab": {
          "base_uri": "https://localhost:8080/"
        },
        "outputId": "520cfb01-2bff-4da3-dc6a-bc2c9cdd36f3"
      },
      "outputs": [
        {
          "output_type": "stream",
          "name": "stdout",
          "text": [
            "loss after 1 step optimization:  3.414252519607544\n"
          ]
        }
      ],
      "source": [
        "# he critical step to update the parameter which reduce the loss\n",
        "optimizer.step()\n",
        "\n",
        "# Perform another forward pass of the model to check the new loss\n",
        "target_pred = linear(data)\n",
        "loss = loss_function(target_pred, target)\n",
        "print('loss after 1 step optimization: ', loss.item())"
      ]
    },
    {
      "cell_type": "markdown",
      "metadata": {
        "id": "8E1PpmGWEcR_"
      },
      "source": [
        "<h3>The Training Loop</h3>\n",
        "Our loss has gone down!! Lets see how low we can get it to go by constructing a training loop!<br>\n",
        "For MOST tasks (but not all) a simgle training iteration in Pytorch can be summarised in the following 5 steps:<br>\n",
        "- Forward pass of our model with the data.<br>\n",
        "- Calculate the loss.<br>\n",
        "- Reset the current stored gradients to 0<br>\n",
        "- Backpropagate the loss to calculate the new gradients.<br>\n",
        "- Perform an optimization step.<br>\n",
        "<br>\n",
        "We perform these steps over and over until our model has converged or some other point has been reached (depending on the application)"
      ]
    },
    {
      "cell_type": "code",
      "execution_count": 16,
      "metadata": {
        "id": "E3j3wBFCEcR_",
        "colab": {
          "base_uri": "https://localhost:8080/"
        },
        "outputId": "60c7b7ef-1338-4721-ba44-25e14ffe0cc3"
      },
      "outputs": [
        {
          "output_type": "stream",
          "name": "stdout",
          "text": [
            "loss: 9.780737309483811e-05\n"
          ]
        }
      ],
      "source": [
        "# Lets create an empty array to log the loss\n",
        "loss_logger = []\n",
        "\n",
        "# Lets perform 100 itterations of our dataset\n",
        "for i in range(1000):\n",
        "    # Perform a forward pass of our data\n",
        "    target_pred = linear(data)\n",
        "\n",
        "    # Calculate the loss\n",
        "    loss = loss_function(target_pred, target)\n",
        "\n",
        "    # .zero_grad sets the stored gradients to 0\n",
        "    # If we didn't do this they would be added to the\n",
        "    # Gradients from the previous step!\n",
        "    optimizer.zero_grad()\n",
        "\n",
        "    # Calculate the new gradients\n",
        "    loss.backward()\n",
        "\n",
        "    # Perform an optimization step!\n",
        "    optimizer.step()\n",
        "\n",
        "    loss_logger.append(loss.item())\n",
        "\n",
        "print(\"loss:\", loss.item())"
      ]
    },
    {
      "cell_type": "markdown",
      "metadata": {
        "id": "lQ15m46qEcR_"
      },
      "source": [
        "Lets graph out the loss!"
      ]
    },
    {
      "cell_type": "code",
      "execution_count": 17,
      "metadata": {
        "id": "lI9zutLsEcSA",
        "colab": {
          "base_uri": "https://localhost:8080/",
          "height": 448
        },
        "outputId": "b25a92c9-bbb2-4ef1-ad93-7fdd8d249c7f"
      },
      "outputs": [
        {
          "output_type": "execute_result",
          "data": {
            "text/plain": [
              "[<matplotlib.lines.Line2D at 0x7d73ad3f4ac0>]"
            ]
          },
          "metadata": {},
          "execution_count": 17
        },
        {
          "output_type": "display_data",
          "data": {
            "text/plain": [
              "<Figure size 640x480 with 1 Axes>"
            ],
            "image/png": "[encoded data removed]"
          },
          "metadata": {}
        }
      ],
      "source": [
        "plt.plot(loss_logger)"
      ]
    },
    {
      "cell_type": "code",
      "execution_count": 18,
      "metadata": {
        "id": "c1pLV7c7EcSA",
        "colab": {
          "base_uri": "https://localhost:8080/",
          "height": 467
        },
        "outputId": "10b88a51-9df3-4f93-d95a-0966cdbe846f"
      },
      "outputs": [
        {
          "output_type": "execute_result",
          "data": {
            "text/plain": [
              "Text(0, 0.5, 'Ouputs')"
            ]
          },
          "metadata": {},
          "execution_count": 18
        },
        {
          "output_type": "display_data",
          "data": {
            "text/plain": [
              "<Figure size 640x480 with 1 Axes>"
            ],
            "image/png": "[encoded data removed]"
          },
          "metadata": {}
        }
      ],
      "source": [
        "# Plotting the first dimension of the input vs the output\n",
        "plt.scatter(data[:, 0], target_pred.detach())\n",
        "plt.scatter(data[:, 0], target, marker=\"x\")\n",
        "plt.legend([\"Predictions\", \"Ground Truth\"])\n",
        "plt.xlabel(\"Inputs\")\n",
        "plt.ylabel(\"Ouputs\")"
      ]
    },
    {
      "cell_type": "markdown",
      "metadata": {
        "id": "YTfXhYrDEcSB"
      },
      "source": [
        "<h2>Wohoo! We trained our first Pytorch neural network!!<h2>"
      ]
    }
  ],
  "metadata": {
    "kernelspec": {
      "display_name": "Python 3",
      "language": "python",
      "name": "python3"
    },
    "language_info": {
      "codemirror_mode": {
        "name": "ipython",
        "version": 3
      },
      "file_extension": ".py",
      "mimetype": "text/x-python",
      "name": "python",
      "nbconvert_exporter": "python",
      "pygments_lexer": "ipython3",
      "version": "3.6.9"
    },
    "colab": {
      "provenance": []
    }
  },
  "nbformat": 4,
  "nbformat_minor": 0
}